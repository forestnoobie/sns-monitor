{
 "cells": [
  {
   "cell_type": "markdown",
   "metadata": {},
   "source": [
    "# Daily Template\n",
    "* 태현씨가 전달한 버전으로 그래프 수정"
   ]
  },
  {
   "cell_type": "code",
   "execution_count": 79,
   "metadata": {},
   "outputs": [],
   "source": [
    "import os\n",
    "import nltk\n",
    "import datetime\n",
    "import numpy as np\n",
    "\n",
    "import pandas as pd\n",
    "import seaborn as sns\n",
    "from wordcloud import WordCloud\n",
    "import matplotlib.pyplot as plt\n",
    "import matplotlib as mpl\n",
    "from matplotlib import font_manager\n",
    "from konlpy.tag import Twitter"
   ]
  },
  {
   "cell_type": "code",
   "execution_count": 80,
   "metadata": {},
   "outputs": [],
   "source": [
    "# 그래프를 노트북 안에 그리기 위해 설정\n",
    "%matplotlib inline\n",
    "\n",
    "# 필요한 패키지와 라이브러리를 가져옴\n",
    "import matplotlib as mpl\n",
    "import matplotlib.pyplot as plt\n",
    "import matplotlib.font_manager as fm"
   ]
  },
  {
   "cell_type": "code",
   "execution_count": null,
   "metadata": {},
   "outputs": [],
   "source": [
    "# # 그래프에서 마이너스 폰트 깨지는 문제에 대한 대처\n",
    "# mpl.rcParams['axes.unicode_minus'] = False\n",
    "\n",
    "# font_dirs = ['./NanumBarunGothic.ttf']\n",
    "# font_files = font_manager.findSystemFonts(fontpaths=font_dirs)\n",
    "\n",
    "# for font_file in font_files:\n",
    "#     font_manager.fontManager.addfont(font_file)\n",
    "\n",
    "\n",
    "# sns.set(font_scale=1.2)"
   ]
  },
  {
   "cell_type": "code",
   "execution_count": 110,
   "metadata": {},
   "outputs": [],
   "source": [
    "# set font\n",
    "\n",
    "# plt.rcParams['font.family'] = 'NanumBarunGothic'\n",
    "\n",
    "plt.rc('font', family='Malgun Gothic')"
   ]
  },
  {
   "cell_type": "code",
   "execution_count": 111,
   "metadata": {},
   "outputs": [],
   "source": [
    "date_week = \"2022-02-14\""
   ]
  },
  {
   "cell_type": "code",
   "execution_count": 112,
   "metadata": {},
   "outputs": [],
   "source": [
    "data_path = \"../sns_data/{}\".format(date_week)\n",
    "os.makedirs(data_path, exist_ok=True)"
   ]
  },
  {
   "cell_type": "code",
   "execution_count": 113,
   "metadata": {},
   "outputs": [],
   "source": [
    "plot_path = \"../weekly_plots/{}\".format(date_week)\n",
    "os.makedirs(plot_path, exist_ok=True)"
   ]
  },
  {
   "cell_type": "code",
   "execution_count": 114,
   "metadata": {},
   "outputs": [],
   "source": [
    "fnames = ['youtube', 'facebook', 'article','datalab']\n",
    "for f in fnames:\n",
    "    os.makedirs(os.path.join(data_path, f), exist_ok=True)"
   ]
  },
  {
   "cell_type": "markdown",
   "metadata": {},
   "source": [
    "# Change file name\n"
   ]
  },
  {
   "cell_type": "code",
   "execution_count": 115,
   "metadata": {},
   "outputs": [],
   "source": [
    "## artificial data\n",
    "instagram_follower = 5005\n",
    "youtube_subscribers = 7395\n",
    "facebook_follower = 749"
   ]
  },
  {
   "cell_type": "code",
   "execution_count": 116,
   "metadata": {},
   "outputs": [],
   "source": [
    "\n",
    "# df_yt_subscription = pd.read_csv(\"../sns_data/2021-10-13/youtube/subscription_data.csv\")\n",
    "# df_yt_gender_age = pd.read_csv(\"../sns_data/2021-10-13/youtube/gender_age_data.csv\")\n",
    "#df_yt_video_data = pd.read_csv(\"../sns_data/{}/youtube/Chart data.csv\".format(date_week))\n",
    "df_yt_table_data = pd.read_csv(\"../sns_data/{}/youtube/Table data.csv\".format(date_week))\n",
    "df_yt_subscription_data = pd.read_csv(\"../sns_data/{}/youtube/Totals.csv\".format(date_week))\n",
    "\n",
    "# df_fb_contents = pd.read_csv(\"../sns_data/2021-10-13/facebook/contents.csv\")\n",
    "#df_fb_results = pd.read_csv(\"../sns_data/2021-10-13/facebook/facebook_results.csv\")\n",
    "# df_fb_targets = pd.read_csv(\"../sns_data/2021-10-13/facebook/facebook_targets.csv\")\n",
    "df_fb_insights = pd.read_csv(\"../sns_data/{}/facebook/facebook_insights.csv\".format(date_week))\n",
    "\n",
    "\n",
    "df_article = pd.read_csv(\"../sns_data/{}/article/article.csv\".format(date_week))\n",
    "df_article['pubDate'] =  pd.to_datetime(df_article['pubDate'])\n",
    "\n",
    "df_datalab = pd.read_csv(\"../sns_data/{}/datalab/datalab.csv\".format(date_week))\n",
    "df_datalab= df_datalab.iloc[6:]\n",
    "df_datalab.columns = [\"Date\", \"버즈량\"]"
   ]
  },
  {
   "cell_type": "code",
   "execution_count": 117,
   "metadata": {},
   "outputs": [],
   "source": [
    "fb_follower = df_fb_insights[[\"날짜\", \"좋아요\"]]\n",
    "\n",
    "fb_follower = fb_follower.drop(0)\n",
    "fb_follower.columns = [\"Date\" , \"Counts\"]\n",
    "fb_follower[\"Date\"] = pd.to_datetime(fb_follower[\"Date\"])\n",
    "\n",
    "\n",
    "# Select dates in between\n",
    "\n",
    "# fb_follower = fb_follower.loc[(fb_follower['Date'] > start_date) & (fb_follower[\"Date\"] < end_date) \\\n",
    "#                   | (fb_follower['Date'] == start_date) | (fb_follower[\"Date\"] == end_date)]\n",
    "\n",
    "fb_follower['sns_type'] = \"Facebook\""
   ]
  },
  {
   "cell_type": "code",
   "execution_count": 118,
   "metadata": {},
   "outputs": [],
   "source": [
    "fb_follower = fb_follower.fillna(0)"
   ]
  },
  {
   "cell_type": "code",
   "execution_count": 119,
   "metadata": {},
   "outputs": [
    {
     "data": {
      "text/html": [
       "<div>\n",
       "<style scoped>\n",
       "    .dataframe tbody tr th:only-of-type {\n",
       "        vertical-align: middle;\n",
       "    }\n",
       "\n",
       "    .dataframe tbody tr th {\n",
       "        vertical-align: top;\n",
       "    }\n",
       "\n",
       "    .dataframe thead th {\n",
       "        text-align: right;\n",
       "    }\n",
       "</style>\n",
       "<table border=\"1\" class=\"dataframe\">\n",
       "  <thead>\n",
       "    <tr style=\"text-align: right;\">\n",
       "      <th></th>\n",
       "      <th>Video</th>\n",
       "      <th>Video title</th>\n",
       "      <th>Video publish time</th>\n",
       "      <th>Views</th>\n",
       "      <th>Watch time (hours)</th>\n",
       "      <th>Subscribers</th>\n",
       "      <th>Impressions</th>\n",
       "      <th>Impressions click-through rate (%)</th>\n",
       "    </tr>\n",
       "  </thead>\n",
       "  <tbody>\n",
       "    <tr>\n",
       "      <th>0</th>\n",
       "      <td>Total</td>\n",
       "      <td>NaN</td>\n",
       "      <td>NaN</td>\n",
       "      <td>7551.0</td>\n",
       "      <td>209.7063</td>\n",
       "      <td>70.0</td>\n",
       "      <td>65858</td>\n",
       "      <td>5.43</td>\n",
       "    </tr>\n",
       "    <tr>\n",
       "      <th>1</th>\n",
       "      <td>jZmhtqlAXWM</td>\n",
       "      <td>김동연의 송곳질문 부동산 폭락사태? 311만호 공급? (한판승부 대선토론 김동연vs...</td>\n",
       "      <td>Feb 8, 2022</td>\n",
       "      <td>753.0</td>\n",
       "      <td>13.2503</td>\n",
       "      <td>7.0</td>\n",
       "      <td>6498</td>\n",
       "      <td>6.11</td>\n",
       "    </tr>\n",
       "    <tr>\n",
       "      <th>2</th>\n",
       "      <td>a1rXB7LEIF0</td>\n",
       "      <td>자녀이야기 EP 4. 첫째아들편 - 김동연의 진심</td>\n",
       "      <td>Feb 7, 2022</td>\n",
       "      <td>1283.0</td>\n",
       "      <td>37.1826</td>\n",
       "      <td>5.0</td>\n",
       "      <td>8088</td>\n",
       "      <td>7.81</td>\n",
       "    </tr>\n",
       "    <tr>\n",
       "      <th>3</th>\n",
       "      <td>a0PK_43VSUY</td>\n",
       "      <td>김동연의 따끔한 일침, '650개 공약, 얼마나 드는지 계산해보셨습니까?'  (한판...</td>\n",
       "      <td>Feb 5, 2022</td>\n",
       "      <td>408.0</td>\n",
       "      <td>6.1489</td>\n",
       "      <td>4.0</td>\n",
       "      <td>3746</td>\n",
       "      <td>5.47</td>\n",
       "    </tr>\n",
       "    <tr>\n",
       "      <th>4</th>\n",
       "      <td>oQq9UybYZ-M</td>\n",
       "      <td>[공식] 김동연 제 20대 대통령선거 출마 선언 | 새로운 10년, 조용한 혁명 (4K)</td>\n",
       "      <td>Sep 8, 2021</td>\n",
       "      <td>210.0</td>\n",
       "      <td>8.2700</td>\n",
       "      <td>4.0</td>\n",
       "      <td>1244</td>\n",
       "      <td>6.27</td>\n",
       "    </tr>\n",
       "  </tbody>\n",
       "</table>\n",
       "</div>"
      ],
      "text/plain": [
       "         Video                                        Video title  \\\n",
       "0        Total                                                NaN   \n",
       "1  jZmhtqlAXWM  김동연의 송곳질문 부동산 폭락사태? 311만호 공급? (한판승부 대선토론 김동연vs...   \n",
       "2  a1rXB7LEIF0                        자녀이야기 EP 4. 첫째아들편 - 김동연의 진심   \n",
       "3  a0PK_43VSUY  김동연의 따끔한 일침, '650개 공약, 얼마나 드는지 계산해보셨습니까?'  (한판...   \n",
       "4  oQq9UybYZ-M  [공식] 김동연 제 20대 대통령선거 출마 선언 | 새로운 10년, 조용한 혁명 (4K)   \n",
       "\n",
       "  Video publish time   Views  Watch time (hours)  Subscribers  Impressions  \\\n",
       "0                NaN  7551.0            209.7063         70.0        65858   \n",
       "1        Feb 8, 2022   753.0             13.2503          7.0         6498   \n",
       "2        Feb 7, 2022  1283.0             37.1826          5.0         8088   \n",
       "3        Feb 5, 2022   408.0              6.1489          4.0         3746   \n",
       "4        Sep 8, 2021   210.0              8.2700          4.0         1244   \n",
       "\n",
       "   Impressions click-through rate (%)  \n",
       "0                                5.43  \n",
       "1                                6.11  \n",
       "2                                7.81  \n",
       "3                                5.47  \n",
       "4                                6.27  "
      ]
     },
     "execution_count": 119,
     "metadata": {},
     "output_type": "execute_result"
    }
   ],
   "source": [
    "df_yt_table_data.head()"
   ]
  },
  {
   "cell_type": "markdown",
   "metadata": {},
   "source": [
    "## 구독자 수 그래프\n",
    "* 유투브 데이터 구독자로 바꾸기\n",
    "* 페이스북 페이지 정보 가져오기"
   ]
  },
  {
   "cell_type": "code",
   "execution_count": 120,
   "metadata": {},
   "outputs": [],
   "source": [
    "start_date = datetime.datetime(2022, 2, 7)\n",
    "end_date = datetime.datetime(2022, 2, 14)"
   ]
  },
  {
   "cell_type": "code",
   "execution_count": 121,
   "metadata": {},
   "outputs": [],
   "source": [
    "## View time series graph\n",
    "\n",
    "colnames = [\"Date\", \"Counts\",]\n",
    "\n",
    "# Youtube\n",
    "df_yt_subscription_data.columns = colnames\n",
    "df_yt_subscription_data['Date'] = pd.to_datetime(df_yt_subscription_data['Date'])\n",
    "yt_follower = df_yt_subscription_data.copy()\n",
    "yt_follower = yt_follower.loc[(yt_follower['Date'] > start_date) & (yt_follower[\"Date\"] < end_date) \\\n",
    "              | (yt_follower['Date'] == start_date) | (yt_follower[\"Date\"] == end_date)]\n",
    "\n",
    "\n",
    "start_sub = youtube_subscribers -  yt_follower['Counts'].sum()\n",
    "yt_follower['Counts'] = yt_follower['Counts'].cumsum() + start_sub\n",
    "\n",
    "\n",
    "# Select dates in between\n",
    "fb_follower = fb_follower.loc[(fb_follower['Date'] > start_date) & (fb_follower[\"Date\"] < end_date) \\\n",
    "                  | (fb_follower['Date'] == start_date) | (fb_follower[\"Date\"] == end_date)]\n",
    "\n",
    "fb_follower['sns_type'] = \"Facebook\"\n",
    "fb_follower = fb_follower.fillna(0)\n",
    "fb_follower['Counts'] = fb_follower[\"Counts\"].map(int)\n",
    "\n",
    "total_sum = fb_follower['Counts'].sum()\n",
    "facebook_follower_start = facebook_follower - total_sum\n",
    "fb_follower['Counts'] = fb_follower['Counts'].cumsum() + facebook_follower_start\n",
    "\n",
    "\n",
    "# Facebook page\n",
    "\n",
    "\n",
    "# Article\n",
    "art_views = df_article[[\"title\", \"pubDate\"]]\n",
    "grs = art_views.groupby(\"pubDate\")\n",
    "art_follower = grs.count()\n",
    "art_follower.reset_index(inplace=True)\n",
    "art_follower.columns = [\"Date\", \"Counts\"]\n",
    "\n",
    "\n",
    "# Instagram Followers\n",
    "date = fb_follower['Date'].tolist()\n",
    "insta_follower = pd.DataFrame({\"Date\" : date})\n",
    "#counts = [1518] * 4 + [1889] * 3 + [instagram_follower]  # Temp\n",
    "num_records = insta_follower.shape[0]\n",
    "counts = np.linspace(3231 ,instagram_follower ,num_records)\n",
    "insta_follower[\"Counts\"] = counts\n",
    "insta_follower['sns_type'] = \"Instagram\""
   ]
  },
  {
   "cell_type": "code",
   "execution_count": 122,
   "metadata": {},
   "outputs": [],
   "source": [
    "# # Change Date\n",
    "dfs = [fb_follower, insta_follower, art_follower, yt_follower]\n",
    "for df in dfs:\n",
    "    df['Date'] = df['Date'].apply(lambda x : x.strftime(\"%m-%d\"))\n",
    "\n",
    "    \n"
   ]
  },
  {
   "cell_type": "code",
   "execution_count": 123,
   "metadata": {},
   "outputs": [
    {
     "data": {
      "text/plain": [
       "'02-07'"
      ]
     },
     "execution_count": 123,
     "metadata": {},
     "output_type": "execute_result"
    }
   ],
   "source": [
    "yt_follower[\"Date\"].head(1).item()"
   ]
  },
  {
   "cell_type": "code",
   "execution_count": 124,
   "metadata": {},
   "outputs": [
    {
     "data": {
      "image/png": "[encoded data removed]",
      "text/plain": [
       "<Figure size 1080x432 with 4 Axes>"
      ]
     },
     "metadata": {
      "needs_background": "light"
     },
     "output_type": "display_data"
    }
   ],
   "source": [
    "fig, axes = plt.subplots(2,2, figsize=(15,6))\n",
    "fig.suptitle(\"SNS 구독자 동향\")\n",
    "plt.subplots_adjust(hspace=0.8)\n",
    "sns.lineplot(ax=axes[0,0] ,x=\"Date\", y=\"Counts\", color='r', data=yt_follower, marker=\"o\")\n",
    "axes[0,0].set_title(\"유투브 구독자수 \")\n",
    "axes[0,0].set_ylabel(\"구독자 수\")\n",
    "\n",
    "start_x, start_y = yt_follower[\"Date\"].head(1).item(), yt_follower[\"Counts\"].head(1).item()\n",
    "end_x, end_y = yt_follower[\"Date\"].tail(1).item(), yt_follower[\"Counts\"].tail(1).item()\n",
    "length = end_y - start_y\n",
    "\n",
    "axes[0,0].text(start_x, start_y + length * 0.1, str(start_y), ha=\"center\")\n",
    "axes[0,0].text(end_x, end_y - length * 0.2, str(end_y), ha=\"center\")\n",
    "axes[0,0].tick_params(labelrotation=45)\n",
    "\n",
    "\n",
    "sns.lineplot(ax=axes[0,1] ,x=\"Date\", y=\"Counts\", color='black', data=art_follower, marker=\"o\")\n",
    "axes[0,1].set_title(\"기사 발행량\")\n",
    "axes[0,1].set_ylabel(\"발행 수\")\n",
    "start_x, start_y = art_follower[\"Date\"].head(1).item(), art_follower[\"Counts\"].head(1).item()\n",
    "end_x, end_y = art_follower[\"Date\"].tail(1).item(), art_follower[\"Counts\"].tail(1).item()\n",
    "length = end_y - start_y\n",
    "\n",
    "axes[0,1].text(start_x, start_y + length * 0.1, str(start_y), ha=\"center\")\n",
    "axes[0,1].text(end_x, end_y  - length * 0.3, str(end_y), ha=\"center\")\n",
    "axes[0,1].tick_params(labelrotation=45)\n",
    "\n",
    "\n",
    "\n",
    "\n",
    "sns.lineplot(ax=axes[1,0] ,x=\"Date\", y=\"Counts\", data=fb_follower, marker=\"o\")\n",
    "axes[1,0].set_title(\"페이스북\")\n",
    "axes[1,0].set_xlabel(\"일자\")\n",
    "axes[1,0].set_ylabel(\"팔로워 수\")\n",
    "start_x, start_y = fb_follower[\"Date\"].head(1).item(), fb_follower[\"Counts\"].head(1).item()\n",
    "end_x, end_y = fb_follower[\"Date\"].tail(1).item(), fb_follower[\"Counts\"].tail(1).item()\n",
    "length = end_y - start_y\n",
    "\n",
    "axes[1,0].text(start_x, start_y + length * 0.1, str(start_y), ha=\"center\")\n",
    "axes[1,0].text(end_x, end_y - length * 0.2, str(end_y), ha=\"center\")\n",
    "axes[1,0].tick_params(labelrotation=45)\n",
    "\n",
    "\n",
    "\n",
    "sns.lineplot(ax=axes[1,1] ,x=\"Date\", y=\"Counts\", color='pink',\n",
    "             data=insta_follower, marker=\"o\")\n",
    "axes[1,1].set_title(\"인스타그램\")\n",
    "axes[1,1].set_xlabel(\"일자\")\n",
    "axes[1,1].set_ylabel(\"팔로워 수\")\n",
    "start_x, start_y = insta_follower[\"Date\"].head(1).item(), insta_follower[\"Counts\"].head(1).item()\n",
    "end_x, end_y = insta_follower[\"Date\"].tail(1).item(), insta_follower[\"Counts\"].tail(1).item()\n",
    "length = end_y - start_y\n",
    "\n",
    "axes[1,1].text(start_x, start_y + length * 0.1, str(start_y), ha=\"center\")\n",
    "axes[1,1].text(end_x, end_y - length * 0.2, str(end_y), ha=\"center\")\n",
    "axes[1,1].tick_params(labelrotation=45)\n",
    "\n",
    "\n",
    "plt.savefig(\"../weekly_plots/{}/sns_overall.png\".format(date_week), transparent=True)"
   ]
  },
  {
   "cell_type": "markdown",
   "metadata": {},
   "source": [
    "## Youtube 조회수 그래프"
   ]
  },
  {
   "cell_type": "code",
   "execution_count": 125,
   "metadata": {},
   "outputs": [],
   "source": [
    "df_yt_chart_data = pd.read_csv(\"../sns_data/{}/youtube/Chart data.csv\".format(date_week))\n",
    "df_yt_chart_data =  df_yt_chart_data.dropna()\n",
    "df_yt_chart_data['Video publish time'] = pd.to_datetime(df_yt_table_data['Video publish time'])\n",
    "df_yt_chart_data.head()\n",
    "\n",
    "chart_df = df_yt_chart_data[[\"Date\", \"Video title\", \"Video publish time\", \"Views\"]]\n"
   ]
  },
  {
   "cell_type": "code",
   "execution_count": 126,
   "metadata": {},
   "outputs": [
    {
     "data": {
      "text/html": [
       "<div>\n",
       "<style scoped>\n",
       "    .dataframe tbody tr th:only-of-type {\n",
       "        vertical-align: middle;\n",
       "    }\n",
       "\n",
       "    .dataframe tbody tr th {\n",
       "        vertical-align: top;\n",
       "    }\n",
       "\n",
       "    .dataframe thead th {\n",
       "        text-align: right;\n",
       "    }\n",
       "</style>\n",
       "<table border=\"1\" class=\"dataframe\">\n",
       "  <thead>\n",
       "    <tr style=\"text-align: right;\">\n",
       "      <th></th>\n",
       "      <th>Date</th>\n",
       "      <th>Video title</th>\n",
       "      <th>Video publish time</th>\n",
       "      <th>Views</th>\n",
       "    </tr>\n",
       "  </thead>\n",
       "  <tbody>\n",
       "    <tr>\n",
       "      <th>0</th>\n",
       "      <td>2022-02-06</td>\n",
       "      <td>패러다임 전환, 이후의 교육이 가야할 방향</td>\n",
       "      <td>NaT</td>\n",
       "      <td>0</td>\n",
       "    </tr>\n",
       "    <tr>\n",
       "      <th>1</th>\n",
       "      <td>2022-02-07</td>\n",
       "      <td>패러다임 전환, 이후의 교육이 가야할 방향</td>\n",
       "      <td>2022-02-08</td>\n",
       "      <td>0</td>\n",
       "    </tr>\n",
       "    <tr>\n",
       "      <th>2</th>\n",
       "      <td>2022-02-08</td>\n",
       "      <td>패러다임 전환, 이후의 교육이 가야할 방향</td>\n",
       "      <td>2022-02-07</td>\n",
       "      <td>0</td>\n",
       "    </tr>\n",
       "    <tr>\n",
       "      <th>3</th>\n",
       "      <td>2022-02-09</td>\n",
       "      <td>패러다임 전환, 이후의 교육이 가야할 방향</td>\n",
       "      <td>2022-02-05</td>\n",
       "      <td>237</td>\n",
       "    </tr>\n",
       "    <tr>\n",
       "      <th>4</th>\n",
       "      <td>2022-02-10</td>\n",
       "      <td>패러다임 전환, 이후의 교육이 가야할 방향</td>\n",
       "      <td>2021-09-08</td>\n",
       "      <td>251</td>\n",
       "    </tr>\n",
       "  </tbody>\n",
       "</table>\n",
       "</div>"
      ],
      "text/plain": [
       "         Date              Video title Video publish time  Views\n",
       "0  2022-02-06  패러다임 전환, 이후의 교육이 가야할 방향                NaT      0\n",
       "1  2022-02-07  패러다임 전환, 이후의 교육이 가야할 방향         2022-02-08      0\n",
       "2  2022-02-08  패러다임 전환, 이후의 교육이 가야할 방향         2022-02-07      0\n",
       "3  2022-02-09  패러다임 전환, 이후의 교육이 가야할 방향         2022-02-05    237\n",
       "4  2022-02-10  패러다임 전환, 이후의 교육이 가야할 방향         2021-09-08    251"
      ]
     },
     "execution_count": 126,
     "metadata": {},
     "output_type": "execute_result"
    }
   ],
   "source": [
    "chart_df.head()"
   ]
  },
  {
   "cell_type": "code",
   "execution_count": 127,
   "metadata": {},
   "outputs": [],
   "source": [
    "grs = chart_df.groupby(\"Date\")\n",
    "view_gr_sum = grs.sum()\n",
    "view_gr_sum.reset_index(inplace=True)\n",
    "view_gr_sum.columns = [\"Date\", \"조회 수\"]\n",
    "view_gr_sum['Date'] = pd.to_datetime(view_gr_sum['Date'])\n",
    "view_gr_sum['Date'] = view_gr_sum['Date'].apply(lambda x : x.strftime(\"%m-%d\"))"
   ]
  },
  {
   "cell_type": "code",
   "execution_count": 128,
   "metadata": {},
   "outputs": [
    {
     "data": {
      "text/html": [
       "<div>\n",
       "<style scoped>\n",
       "    .dataframe tbody tr th:only-of-type {\n",
       "        vertical-align: middle;\n",
       "    }\n",
       "\n",
       "    .dataframe tbody tr th {\n",
       "        vertical-align: top;\n",
       "    }\n",
       "\n",
       "    .dataframe thead th {\n",
       "        text-align: right;\n",
       "    }\n",
       "</style>\n",
       "<table border=\"1\" class=\"dataframe\">\n",
       "  <thead>\n",
       "    <tr style=\"text-align: right;\">\n",
       "      <th></th>\n",
       "      <th>Date</th>\n",
       "      <th>조회 수</th>\n",
       "    </tr>\n",
       "  </thead>\n",
       "  <tbody>\n",
       "    <tr>\n",
       "      <th>0</th>\n",
       "      <td>02-06</td>\n",
       "      <td>259</td>\n",
       "    </tr>\n",
       "    <tr>\n",
       "      <th>1</th>\n",
       "      <td>02-07</td>\n",
       "      <td>1221</td>\n",
       "    </tr>\n",
       "    <tr>\n",
       "      <th>2</th>\n",
       "      <td>02-08</td>\n",
       "      <td>892</td>\n",
       "    </tr>\n",
       "    <tr>\n",
       "      <th>3</th>\n",
       "      <td>02-09</td>\n",
       "      <td>705</td>\n",
       "    </tr>\n",
       "    <tr>\n",
       "      <th>4</th>\n",
       "      <td>02-10</td>\n",
       "      <td>531</td>\n",
       "    </tr>\n",
       "    <tr>\n",
       "      <th>5</th>\n",
       "      <td>02-11</td>\n",
       "      <td>323</td>\n",
       "    </tr>\n",
       "    <tr>\n",
       "      <th>6</th>\n",
       "      <td>02-12</td>\n",
       "      <td>277</td>\n",
       "    </tr>\n",
       "  </tbody>\n",
       "</table>\n",
       "</div>"
      ],
      "text/plain": [
       "    Date  조회 수\n",
       "0  02-06   259\n",
       "1  02-07  1221\n",
       "2  02-08   892\n",
       "3  02-09   705\n",
       "4  02-10   531\n",
       "5  02-11   323\n",
       "6  02-12   277"
      ]
     },
     "execution_count": 128,
     "metadata": {},
     "output_type": "execute_result"
    }
   ],
   "source": [
    "view_gr_sum"
   ]
  },
  {
   "cell_type": "code",
   "execution_count": 129,
   "metadata": {},
   "outputs": [
    {
     "name": "stderr",
     "output_type": "stream",
     "text": [
      "C:\\Users\\User\\anaconda3\\lib\\site-packages\\pandas\\core\\indexing.py:1637: SettingWithCopyWarning: \n",
      "A value is trying to be set on a copy of a slice from a DataFrame\n",
      "\n",
      "See the caveats in the documentation: https://pandas.pydata.org/pandas-docs/stable/user_guide/indexing.html#returning-a-view-versus-a-copy\n",
      "  self._setitem_single_block(indexer, value, name)\n"
     ]
    },
    {
     "data": {
      "text/html": [
       "<div>\n",
       "<style scoped>\n",
       "    .dataframe tbody tr th:only-of-type {\n",
       "        vertical-align: middle;\n",
       "    }\n",
       "\n",
       "    .dataframe tbody tr th {\n",
       "        vertical-align: top;\n",
       "    }\n",
       "\n",
       "    .dataframe thead th {\n",
       "        text-align: right;\n",
       "    }\n",
       "</style>\n",
       "<table border=\"1\" class=\"dataframe\">\n",
       "  <thead>\n",
       "    <tr style=\"text-align: right;\">\n",
       "      <th></th>\n",
       "      <th>Video title</th>\n",
       "      <th>Views</th>\n",
       "    </tr>\n",
       "  </thead>\n",
       "  <tbody>\n",
       "    <tr>\n",
       "      <th>0</th>\n",
       "      <td>자녀이야기 EP 4. 첫째아들편 -</td>\n",
       "      <td>1283</td>\n",
       "    </tr>\n",
       "    <tr>\n",
       "      <th>1</th>\n",
       "      <td>김동연 후보, \"기득권 공화국에서 기</td>\n",
       "      <td>920</td>\n",
       "    </tr>\n",
       "    <tr>\n",
       "      <th>2</th>\n",
       "      <td>김동연의 송곳질문 부동산 폭락사태?</td>\n",
       "      <td>753</td>\n",
       "    </tr>\n",
       "    <tr>\n",
       "      <th>3</th>\n",
       "      <td>패러다임 전환, 이후의 교육이 가야할</td>\n",
       "      <td>748</td>\n",
       "    </tr>\n",
       "    <tr>\n",
       "      <th>4</th>\n",
       "      <td>누군가 국가를 위해</td>\n",
       "      <td>504</td>\n",
       "    </tr>\n",
       "  </tbody>\n",
       "</table>\n",
       "</div>"
      ],
      "text/plain": [
       "            Video title  Views\n",
       "0  자녀이야기 EP 4. 첫째아들편 -    1283\n",
       "1  김동연 후보, \"기득권 공화국에서 기    920\n",
       "2  김동연의 송곳질문 부동산 폭락사태?     753\n",
       "3  패러다임 전환, 이후의 교육이 가야할    748\n",
       "4            누군가 국가를 위해    504"
      ]
     },
     "execution_count": 129,
     "metadata": {},
     "output_type": "execute_result"
    }
   ],
   "source": [
    "grs = chart_df.groupby(\"Video title\")\n",
    "title_gr_sum = grs.sum()\n",
    "title_gr_sum.sort_values('Views', inplace=True, ascending=False)\n",
    "title_gr_sum.reset_index(inplace=True)\n",
    "\n",
    "title_gr_sum['Video title'].loc[0][:15]\n",
    "title_gr_sum['Video title'] = title_gr_sum['Video title'].apply(lambda x : x[:20])\n",
    "title_gr_sum['Video title'].iloc[4] = \"누군가 국가를 위해\"\n",
    "\n",
    "title_gr_sum"
   ]
  },
  {
   "cell_type": "code",
   "execution_count": 130,
   "metadata": {},
   "outputs": [
    {
     "data": {
      "image/png": "[encoded data removed]",
      "text/plain": [
       "<Figure size 1080x360 with 2 Axes>"
      ]
     },
     "metadata": {
      "needs_background": "light"
     },
     "output_type": "display_data"
    }
   ],
   "source": [
    "fig, axes = plt.subplots(1,2, figsize=(15,5))\n",
    "fig.suptitle(\"유튜브 조회수 현황\")\n",
    "plt.subplots_adjust(wspace=0.8)\n",
    "\n",
    "# 유투브 조회수\n",
    "sns.barplot(ax=axes[0] ,x=\"Date\", y=\"조회 수\", data=view_gr_sum)\n",
    "axes[0].tick_params(labelrotation=45)\n",
    "axes[0].set_title(\"유투브 조회수 추이\")\n",
    "for index, row in view_gr_sum.iterrows():\n",
    "    axes[0].text(index, row['조회 수'], str(row['조회 수']), ha='center')\n",
    "    \n",
    "sns.barplot(ax=axes[1], x=title_gr_sum['Views'], y=title_gr_sum['Video title'])\n",
    "axes[1].set_title(\"인기 동영상\")\n",
    "plt.savefig(\"../weekly_plots/{}/youtube_views.png\".format(date_week), transparent=True)"
   ]
  },
  {
   "cell_type": "markdown",
   "metadata": {},
   "source": [
    "## Datalab "
   ]
  },
  {
   "cell_type": "code",
   "execution_count": 169,
   "metadata": {},
   "outputs": [
    {
     "data": {
      "text/html": [
       "<div>\n",
       "<style scoped>\n",
       "    .dataframe tbody tr th:only-of-type {\n",
       "        vertical-align: middle;\n",
       "    }\n",
       "\n",
       "    .dataframe tbody tr th {\n",
       "        vertical-align: top;\n",
       "    }\n",
       "\n",
       "    .dataframe thead th {\n",
       "        text-align: right;\n",
       "    }\n",
       "</style>\n",
       "<table border=\"1\" class=\"dataframe\">\n",
       "  <thead>\n",
       "    <tr style=\"text-align: right;\">\n",
       "      <th></th>\n",
       "      <th>Unnamed: 0</th>\n",
       "      <th>title</th>\n",
       "      <th>originallink</th>\n",
       "      <th>link</th>\n",
       "      <th>description</th>\n",
       "      <th>pubDate</th>\n",
       "    </tr>\n",
       "  </thead>\n",
       "  <tbody>\n",
       "    <tr>\n",
       "      <th>0</th>\n",
       "      <td>9</td>\n",
       "      <td>후보 등록하는 &lt;b&gt;김동연&lt;/b&gt; 새로운물결 대선 후보</td>\n",
       "      <td>http://www.newsis.com/view/?id=NISI20220213_00...</td>\n",
       "      <td>https://news.naver.com/main/read.naver?mode=LS...</td>\n",
       "      <td>국회사진기자단 = &lt;b&gt;김동연&lt;/b&gt; 새로운물결 대선 후보가 제20대 대통령 선거 ...</td>\n",
       "      <td>2022-02-13</td>\n",
       "    </tr>\n",
       "    <tr>\n",
       "      <th>1</th>\n",
       "      <td>10</td>\n",
       "      <td>&lt;b&gt;김동연&lt;/b&gt;, 후보 등록 신청…중도 사퇴 일축</td>\n",
       "      <td>http://www.edaily.co.kr/news/newspath.asp?news...</td>\n",
       "      <td>https://news.naver.com/main/read.naver?mode=LS...</td>\n",
       "      <td>출신인 &lt;b&gt;김동연&lt;/b&gt; 새로운물결 대선 후보가 13일 오전 11시 중앙선거관리위...</td>\n",
       "      <td>2022-02-13</td>\n",
       "    </tr>\n",
       "    <tr>\n",
       "      <th>2</th>\n",
       "      <td>13</td>\n",
       "      <td>송영길 &amp;quot;함께 잘 해보자&amp;quot; &lt;b&gt;김동연&lt;/b&gt; &amp;quot;오늘 후...</td>\n",
       "      <td>https://www.news1.kr/articles/?4583377</td>\n",
       "      <td>https://news.naver.com/main/read.naver?mode=LS...</td>\n",
       "      <td>송영길 더불어민주당 대표와 &lt;b&gt;김동연&lt;/b&gt; 새로운물결 대선 후보가 제20대 대통...</td>\n",
       "      <td>2022-02-13</td>\n",
       "    </tr>\n",
       "    <tr>\n",
       "      <th>3</th>\n",
       "      <td>14</td>\n",
       "      <td>후보 등록하는 &lt;b&gt;김동연&lt;/b&gt; 새로운물결 대선 후보</td>\n",
       "      <td>http://www.newsis.com/view/?id=NISI20220213_00...</td>\n",
       "      <td>https://news.naver.com/main/read.naver?mode=LS...</td>\n",
       "      <td>국회사진기자단 = &lt;b&gt;김동연&lt;/b&gt; 새로운물결 대선 후보가 제20대 대통령 선거 ...</td>\n",
       "      <td>2022-02-13</td>\n",
       "    </tr>\n",
       "    <tr>\n",
       "      <th>4</th>\n",
       "      <td>16</td>\n",
       "      <td>&lt;b&gt;김동연&lt;/b&gt; 새로운물결 대선 후보 후보 등록</td>\n",
       "      <td>http://www.newsis.com/view/?id=NISI20220213_00...</td>\n",
       "      <td>https://news.naver.com/main/read.naver?mode=LS...</td>\n",
       "      <td>국회사진기자단 = &lt;b&gt;김동연&lt;/b&gt; 새로운물결 대선 후보가 제20대 대통령 선거 ...</td>\n",
       "      <td>2022-02-13</td>\n",
       "    </tr>\n",
       "  </tbody>\n",
       "</table>\n",
       "</div>"
      ],
      "text/plain": [
       "   Unnamed: 0                                              title  \\\n",
       "0           9                     후보 등록하는 <b>김동연</b> 새로운물결 대선 후보   \n",
       "1          10                      <b>김동연</b>, 후보 등록 신청…중도 사퇴 일축   \n",
       "2          13  송영길 &quot;함께 잘 해보자&quot; <b>김동연</b> &quot;오늘 후...   \n",
       "3          14                     후보 등록하는 <b>김동연</b> 새로운물결 대선 후보   \n",
       "4          16                       <b>김동연</b> 새로운물결 대선 후보 후보 등록   \n",
       "\n",
       "                                        originallink  \\\n",
       "0  http://www.newsis.com/view/?id=NISI20220213_00...   \n",
       "1  http://www.edaily.co.kr/news/newspath.asp?news...   \n",
       "2             https://www.news1.kr/articles/?4583377   \n",
       "3  http://www.newsis.com/view/?id=NISI20220213_00...   \n",
       "4  http://www.newsis.com/view/?id=NISI20220213_00...   \n",
       "\n",
       "                                                link  \\\n",
       "0  https://news.naver.com/main/read.naver?mode=LS...   \n",
       "1  https://news.naver.com/main/read.naver?mode=LS...   \n",
       "2  https://news.naver.com/main/read.naver?mode=LS...   \n",
       "3  https://news.naver.com/main/read.naver?mode=LS...   \n",
       "4  https://news.naver.com/main/read.naver?mode=LS...   \n",
       "\n",
       "                                         description    pubDate  \n",
       "0  국회사진기자단 = <b>김동연</b> 새로운물결 대선 후보가 제20대 대통령 선거 ... 2022-02-13  \n",
       "1  출신인 <b>김동연</b> 새로운물결 대선 후보가 13일 오전 11시 중앙선거관리위... 2022-02-13  \n",
       "2  송영길 더불어민주당 대표와 <b>김동연</b> 새로운물결 대선 후보가 제20대 대통... 2022-02-13  \n",
       "3  국회사진기자단 = <b>김동연</b> 새로운물결 대선 후보가 제20대 대통령 선거 ... 2022-02-13  \n",
       "4  국회사진기자단 = <b>김동연</b> 새로운물결 대선 후보가 제20대 대통령 선거 ... 2022-02-13  "
      ]
     },
     "execution_count": 169,
     "metadata": {},
     "output_type": "execute_result"
    }
   ],
   "source": [
    "df_article.head()"
   ]
  },
  {
   "cell_type": "code",
   "execution_count": 132,
   "metadata": {},
   "outputs": [],
   "source": [
    "art_views = df_article[[\"title\", \"pubDate\"]]\n",
    "\n",
    "grs = art_views.groupby(\"pubDate\")\n",
    "art_follower = grs.count()\n",
    "art_follower.reset_index(inplace=True)\n",
    "art_follower.columns = [\"Date\", \"Counts\"]\n",
    "art_follower['Date'] = art_follower['Date'].apply(lambda x : x.strftime(\"%m-%d\"))\n"
   ]
  },
  {
   "cell_type": "code",
   "execution_count": 133,
   "metadata": {},
   "outputs": [
    {
     "data": {
      "image/png": "[encoded data removed]",
      "text/plain": [
       "<Figure size 432x288 with 1 Axes>"
      ]
     },
     "metadata": {
      "needs_background": "light"
     },
     "output_type": "display_data"
    }
   ],
   "source": [
    "sns.barplot(x=\"Date\", y=\"Counts\", data=art_follower)\n",
    "plt.xticks(rotation=30)\n",
    "plt.title(\"기사 발행량 추이\")\n",
    "plt.savefig(\"../weekly_plots/{}/article_transparent.png\".format(date_week), transparent=True)"
   ]
  },
  {
   "cell_type": "code",
   "execution_count": 134,
   "metadata": {},
   "outputs": [
    {
     "name": "stderr",
     "output_type": "stream",
     "text": [
      "<ipython-input-134-a846709c6319>:12: MatplotlibDeprecationWarning: savefig() got unexpected keyword argument \"transperent\" which is no longer supported as of 3.3 and will become an error two minor releases later\n",
      "  plt.savefig(\"../weekly_plots/{}/articles.png\".format(date_week), transperent=True)\n"
     ]
    },
    {
     "data": {
      "image/png": "[encoded data removed]",
      "text/plain": [
       "<Figure size 432x288 with 1 Axes>"
      ]
     },
     "metadata": {
      "needs_background": "light"
     },
     "output_type": "display_data"
    }
   ],
   "source": [
    "# fig, axes = plt.subplots(1,3, figsize=(15,5))\n",
    "# fig.suptitle(\"기사 발행량 현황\")\n",
    "# plt.subplots_adjust()\n",
    "\n",
    "\n",
    "    \n",
    "# 유투브 조회수\n",
    "sns.barplot(x=\"Date\", y=\"Counts\", data=art_follower)\n",
    "# for index, row in art_follower.iterrows():\n",
    "#     plt.text(index, row['Counts'], str(row['Counts']), ha='center')\n",
    "plt.title(\"기사 발행량\")\n",
    "plt.savefig(\"../weekly_plots/{}/articles.png\".format(date_week), transperent=True)\n",
    "# ## Temp\n",
    "# sns.barplot(ax=axes[1], x=title_gr_sum['Views'], y=title_gr_sum['Video title'])\n",
    "# axes[1].set_title(\"인기 동영상\")\n",
    "# plt.savefig(\"../weekly_plots/2021-10-18/youtube_views.png\")\n"
   ]
  },
  {
   "cell_type": "code",
   "execution_count": 166,
   "metadata": {},
   "outputs": [
    {
     "name": "stderr",
     "output_type": "stream",
     "text": [
      "C:\\Users\\User\\anaconda3\\lib\\site-packages\\konlpy\\tag\\_okt.py:17: UserWarning: \"Twitter\" has changed to \"Okt\" since KoNLPy v0.4.5.\n",
      "  warn('\"Twitter\" has changed to \"Okt\" since KoNLPy v0.4.5.')\n"
     ]
    },
    {
     "data": {
      "image/png": "[encoded data removed]",
      "text/plain": [
       "<Figure size 432x288 with 1 Axes>"
      ]
     },
     "metadata": {
      "needs_background": "light"
     },
     "output_type": "display_data"
    }
   ],
   "source": [
    "# WordCloud Previous and now\n",
    "t = Twitter()\n",
    "\n",
    "grp_keys = list(grs.groups.keys())\n",
    "\n",
    "wcs = {}\n",
    "for idx, k in enumerate(grp_keys):\n",
    "    font_path = \"./NanumBarunGothic.ttf\"\n",
    "    df_g = grs.get_group(k)\n",
    "    title_txt = df_g.title.to_string()\n",
    "    tokens = t.nouns(title_txt)\n",
    "    ko = nltk.Text(tokens, name=\"뉴스 기사\")\n",
    "    data = ko.vocab().most_common(50)\n",
    "    data = data[1:] # 김동연 제외\n",
    "    wc = WordCloud(font_path=font_path, \n",
    "                   background_color=\"white\", max_words=1000,max_font_size=300).generate_from_frequencies(dict(data))\n",
    "\n",
    "    \n",
    "    plt.title(k.strftime(\"%m-%d\") + \" 뉴스 기사 제목 요약\", fontsize=25, pad=20)\n",
    "    plt.imshow(wc, cmap=plt.cm.gray, interpolation=\"bilinear\")\n",
    "    plt.axis(\"off\")\n",
    "    wcs[idx] = wc\n",
    "    #wc.to_file('../weekly_plots/2021-10-18/wc_{}_{}_week{}.png'.format(k.month, k.day, k.isocalendar()[1]))\n",
    "    plt.savefig('../weekly_plots/{}/wc_{}_{}_week{}.png'.format(date_week, k.month, k.day, k.isocalendar()[1]), \n",
    "               transparent=True)"
   ]
  },
  {
   "cell_type": "markdown",
   "metadata": {},
   "source": [
    "## Datalab"
   ]
  },
  {
   "cell_type": "code",
   "execution_count": 161,
   "metadata": {},
   "outputs": [],
   "source": [
    "df_datalab = pd.read_csv(\"../sns_data/{}/datalab/datalab.csv\".format(date_week))\n",
    "df_datalab= df_datalab.iloc[6:]\n",
    "df_datalab.columns = [\"Date\", \"검색량\"]\n",
    "df_datalab['Date'] = pd.to_datetime(df_datalab['Date'])\n",
    "\n",
    "df_datalab['Date'] = df_datalab['Date'].map(lambda x : x.strftime(\"%m-%d\"))\n",
    "df_datalab[\"검색량\"]= df_datalab['검색량'].map(lambda x : float(x))"
   ]
  },
  {
   "cell_type": "code",
   "execution_count": 162,
   "metadata": {},
   "outputs": [
    {
     "data": {
      "text/html": [
       "<div>\n",
       "<style scoped>\n",
       "    .dataframe tbody tr th:only-of-type {\n",
       "        vertical-align: middle;\n",
       "    }\n",
       "\n",
       "    .dataframe tbody tr th {\n",
       "        vertical-align: top;\n",
       "    }\n",
       "\n",
       "    .dataframe thead th {\n",
       "        text-align: right;\n",
       "    }\n",
       "</style>\n",
       "<table border=\"1\" class=\"dataframe\">\n",
       "  <thead>\n",
       "    <tr style=\"text-align: right;\">\n",
       "      <th></th>\n",
       "      <th>Date</th>\n",
       "      <th>검색량</th>\n",
       "    </tr>\n",
       "  </thead>\n",
       "  <tbody>\n",
       "    <tr>\n",
       "      <th>6</th>\n",
       "      <td>02-06</td>\n",
       "      <td>58.76719</td>\n",
       "    </tr>\n",
       "    <tr>\n",
       "      <th>7</th>\n",
       "      <td>02-07</td>\n",
       "      <td>75.98231</td>\n",
       "    </tr>\n",
       "    <tr>\n",
       "      <th>8</th>\n",
       "      <td>02-08</td>\n",
       "      <td>57.98133</td>\n",
       "    </tr>\n",
       "    <tr>\n",
       "      <th>9</th>\n",
       "      <td>02-09</td>\n",
       "      <td>56.94990</td>\n",
       "    </tr>\n",
       "    <tr>\n",
       "      <th>10</th>\n",
       "      <td>02-10</td>\n",
       "      <td>100.00000</td>\n",
       "    </tr>\n",
       "    <tr>\n",
       "      <th>11</th>\n",
       "      <td>02-11</td>\n",
       "      <td>67.68172</td>\n",
       "    </tr>\n",
       "    <tr>\n",
       "      <th>12</th>\n",
       "      <td>02-12</td>\n",
       "      <td>56.65520</td>\n",
       "    </tr>\n",
       "    <tr>\n",
       "      <th>13</th>\n",
       "      <td>02-13</td>\n",
       "      <td>87.15618</td>\n",
       "    </tr>\n",
       "  </tbody>\n",
       "</table>\n",
       "</div>"
      ],
      "text/plain": [
       "     Date        검색량\n",
       "6   02-06   58.76719\n",
       "7   02-07   75.98231\n",
       "8   02-08   57.98133\n",
       "9   02-09   56.94990\n",
       "10  02-10  100.00000\n",
       "11  02-11   67.68172\n",
       "12  02-12   56.65520\n",
       "13  02-13   87.15618"
      ]
     },
     "execution_count": 162,
     "metadata": {},
     "output_type": "execute_result"
    }
   ],
   "source": [
    "df_datalab.iloc[0:]"
   ]
  },
  {
   "cell_type": "code",
   "execution_count": 141,
   "metadata": {},
   "outputs": [
    {
     "data": {
      "image/png": "[encoded data removed]",
      "text/plain": [
       "<Figure size 432x288 with 1 Axes>"
      ]
     },
     "metadata": {
      "needs_background": "light"
     },
     "output_type": "display_data"
    }
   ],
   "source": [
    "# 유투브 조회수\n",
    "sns.barplot(x=\"Date\", y=\"검색량\", data=df_datalab)\n",
    "plt.title(\"네이버 검색량\")\n",
    "plt.xticks(rotation=25)\n",
    "plt.savefig(\"../weekly_plots/{}/datalab_search.png\".format(date_week), transparent=True, dpi=100)"
   ]
  },
  {
   "cell_type": "markdown",
   "metadata": {},
   "source": [
    "### test"
   ]
  },
  {
   "cell_type": "code",
   "execution_count": null,
   "metadata": {},
   "outputs": [],
   "source": [
    "s"
   ]
  }
 ],
 "metadata": {
  "kernelspec": {
   "display_name": "Python 3",
   "language": "python",
   "name": "python3"
  },
  "language_info": {
   "codemirror_mode": {
    "name": "ipython",
    "version": 3
   },
   "file_extension": ".py",
   "mimetype": "text/x-python",
   "name": "python",
   "nbconvert_exporter": "python",
   "pygments_lexer": "ipython3",
   "version": "3.8.8"
  }
 },
 "nbformat": 4,
 "nbformat_minor": 4
}
