{
 "cells": [
  {
   "cell_type": "markdown",
   "metadata": {},
   "source": [
    "# Weekly SNS monitoring\n",
    "---\n",
    "1. Open data\n",
    "    * Youtube - subscription_data.csv,  gender_age_data.csv, video_data.csv\n",
    "    * facebook - contents, fb_results, fb_targets\n",
    "    * article - article title"
   ]
  },
  {
   "cell_type": "code",
   "execution_count": 135,
   "metadata": {},
   "outputs": [],
   "source": [
    "import pandas as pd\n",
    "import seaborn as sns\n",
    "import matplotlib.pyplot as plt\n",
    "import matplotlib as mpl\n",
    "from matplotlib import font_manager"
   ]
  },
  {
   "cell_type": "code",
   "execution_count": 136,
   "metadata": {},
   "outputs": [],
   "source": [
    "font_dirs = ['./NanumBarunGothic.ttf']\n",
    "font_files = font_manager.findSystemFonts(fontpaths=font_dirs)\n",
    "\n",
    "for font_file in font_files:\n",
    "    font_manager.fontManager.addfont(font_file)\n",
    "\n",
    "\n",
    "sns.set(font_scale=1.2)\n",
    "# set font\n",
    "plt.rcParams['font.family'] = 'NanumBarunGothic'"
   ]
  },
  {
   "cell_type": "code",
   "execution_count": 137,
   "metadata": {},
   "outputs": [],
   "source": [
    "df_yt_subscription = pd.read_csv(\"../sns_data/2021-10-13/youtube/subscription_data.csv\")\n",
    "df_yt_gender_age = pd.read_csv(\"../sns_data/2021-10-13/youtube/gender_age_data.csv\")\n",
    "df_yt_video_data = pd.read_csv(\"../sns_data/2021-10-13/youtube/video_data.csv\")\n",
    "\n",
    "df_fb_contents = pd.read_csv(\"../sns_data/2021-10-13/facebook/contents.csv\")\n",
    "df_fb_results = pd.read_csv(\"../sns_data/2021-10-13/facebook/facebook_results.csv\")\n",
    "df_fb_targets = pd.read_csv(\"../sns_data/2021-10-13/facebook/facebook_targets.csv\")\n",
    "\n",
    "df_article = pd.read_csv(\"../sns_data/2021-10-13/article/article_title.csv\")"
   ]
  },
  {
   "cell_type": "code",
   "execution_count": 140,
   "metadata": {},
   "outputs": [
    {
     "data": {
      "text/html": [
       "<div>\n",
       "<style scoped>\n",
       "    .dataframe tbody tr th:only-of-type {\n",
       "        vertical-align: middle;\n",
       "    }\n",
       "\n",
       "    .dataframe tbody tr th {\n",
       "        vertical-align: top;\n",
       "    }\n",
       "\n",
       "    .dataframe thead th {\n",
       "        text-align: right;\n",
       "    }\n",
       "</style>\n",
       "<table border=\"1\" class=\"dataframe\">\n",
       "  <thead>\n",
       "    <tr style=\"text-align: right;\">\n",
       "      <th></th>\n",
       "      <th>Date</th>\n",
       "      <th>Video</th>\n",
       "      <th>Video title</th>\n",
       "      <th>Video publish time</th>\n",
       "      <th>Views</th>\n",
       "    </tr>\n",
       "  </thead>\n",
       "  <tbody>\n",
       "    <tr>\n",
       "      <th>0</th>\n",
       "      <td>2021-10-05</td>\n",
       "      <td>CE_DGHcW5YU</td>\n",
       "      <td>김동연이 여・야당의 러브콜을 모두 마다한 이유</td>\n",
       "      <td>Oct 6, 2021</td>\n",
       "      <td>0</td>\n",
       "    </tr>\n",
       "    <tr>\n",
       "      <th>1</th>\n",
       "      <td>2021-10-06</td>\n",
       "      <td>CE_DGHcW5YU</td>\n",
       "      <td>김동연이 여・야당의 러브콜을 모두 마다한 이유</td>\n",
       "      <td>Oct 6, 2021</td>\n",
       "      <td>373</td>\n",
       "    </tr>\n",
       "    <tr>\n",
       "      <th>2</th>\n",
       "      <td>2021-10-07</td>\n",
       "      <td>CE_DGHcW5YU</td>\n",
       "      <td>김동연이 여・야당의 러브콜을 모두 마다한 이유</td>\n",
       "      <td>Oct 6, 2021</td>\n",
       "      <td>182</td>\n",
       "    </tr>\n",
       "    <tr>\n",
       "      <th>3</th>\n",
       "      <td>2021-10-08</td>\n",
       "      <td>CE_DGHcW5YU</td>\n",
       "      <td>김동연이 여・야당의 러브콜을 모두 마다한 이유</td>\n",
       "      <td>Oct 6, 2021</td>\n",
       "      <td>567</td>\n",
       "    </tr>\n",
       "    <tr>\n",
       "      <th>4</th>\n",
       "      <td>2021-10-09</td>\n",
       "      <td>CE_DGHcW5YU</td>\n",
       "      <td>김동연이 여・야당의 러브콜을 모두 마다한 이유</td>\n",
       "      <td>Oct 6, 2021</td>\n",
       "      <td>41</td>\n",
       "    </tr>\n",
       "  </tbody>\n",
       "</table>\n",
       "</div>"
      ],
      "text/plain": [
       "         Date        Video                Video title Video publish time  \\\n",
       "0  2021-10-05  CE_DGHcW5YU  김동연이 여・야당의 러브콜을 모두 마다한 이유        Oct 6, 2021   \n",
       "1  2021-10-06  CE_DGHcW5YU  김동연이 여・야당의 러브콜을 모두 마다한 이유        Oct 6, 2021   \n",
       "2  2021-10-07  CE_DGHcW5YU  김동연이 여・야당의 러브콜을 모두 마다한 이유        Oct 6, 2021   \n",
       "3  2021-10-08  CE_DGHcW5YU  김동연이 여・야당의 러브콜을 모두 마다한 이유        Oct 6, 2021   \n",
       "4  2021-10-09  CE_DGHcW5YU  김동연이 여・야당의 러브콜을 모두 마다한 이유        Oct 6, 2021   \n",
       "\n",
       "   Views  \n",
       "0      0  \n",
       "1    373  \n",
       "2    182  \n",
       "3    567  \n",
       "4     41  "
      ]
     },
     "execution_count": 140,
     "metadata": {},
     "output_type": "execute_result"
    }
   ],
   "source": [
    "df_yt_video_data.head()"
   ]
  },
  {
   "cell_type": "markdown",
   "metadata": {},
   "source": [
    "# Youtube"
   ]
  },
  {
   "cell_type": "code",
   "execution_count": 141,
   "metadata": {},
   "outputs": [
    {
     "data": {
      "image/png": "[encoded data removed]",
      "text/plain": [
       "<Figure size 432x288 with 1 Axes>"
      ]
     },
     "metadata": {},
     "output_type": "display_data"
    }
   ],
   "source": [
    "## View time series graph\n",
    "gr = df_yt_video_data.groupby(\"Date\")\n",
    "groups = list(gr.groups.keys())\n",
    "df_plot = gr.sum()\n",
    "df_plot['Date'] = df_plot.index\n",
    "\n",
    "ax = sns.lineplot(x=\"Date\", y=\"Views\", data=df_plot)\n",
    "plt.xticks(rotation=90)\n",
    "plt.title(\"일자별 시청 횟수\")\n",
    "plt.tight_layout()\n",
    "plt.savefig(\"../weekly_plots/yt_views.png\")"
   ]
  },
  {
   "cell_type": "code",
   "execution_count": 142,
   "metadata": {},
   "outputs": [
    {
     "data": {
      "text/html": [
       "<div>\n",
       "<style scoped>\n",
       "    .dataframe tbody tr th:only-of-type {\n",
       "        vertical-align: middle;\n",
       "    }\n",
       "\n",
       "    .dataframe tbody tr th {\n",
       "        vertical-align: top;\n",
       "    }\n",
       "\n",
       "    .dataframe thead th {\n",
       "        text-align: right;\n",
       "    }\n",
       "</style>\n",
       "<table border=\"1\" class=\"dataframe\">\n",
       "  <thead>\n",
       "    <tr style=\"text-align: right;\">\n",
       "      <th></th>\n",
       "      <th>Date</th>\n",
       "      <th>Subscription status</th>\n",
       "      <th>Views</th>\n",
       "    </tr>\n",
       "  </thead>\n",
       "  <tbody>\n",
       "    <tr>\n",
       "      <th>0</th>\n",
       "      <td>2021-10-05</td>\n",
       "      <td>Subscribed</td>\n",
       "      <td>437</td>\n",
       "    </tr>\n",
       "    <tr>\n",
       "      <th>1</th>\n",
       "      <td>2021-10-06</td>\n",
       "      <td>Subscribed</td>\n",
       "      <td>1233</td>\n",
       "    </tr>\n",
       "    <tr>\n",
       "      <th>2</th>\n",
       "      <td>2021-10-07</td>\n",
       "      <td>Subscribed</td>\n",
       "      <td>908</td>\n",
       "    </tr>\n",
       "    <tr>\n",
       "      <th>3</th>\n",
       "      <td>2021-10-08</td>\n",
       "      <td>Subscribed</td>\n",
       "      <td>1241</td>\n",
       "    </tr>\n",
       "    <tr>\n",
       "      <th>4</th>\n",
       "      <td>2021-10-09</td>\n",
       "      <td>Subscribed</td>\n",
       "      <td>789</td>\n",
       "    </tr>\n",
       "  </tbody>\n",
       "</table>\n",
       "</div>"
      ],
      "text/plain": [
       "         Date Subscription status  Views\n",
       "0  2021-10-05          Subscribed    437\n",
       "1  2021-10-06          Subscribed   1233\n",
       "2  2021-10-07          Subscribed    908\n",
       "3  2021-10-08          Subscribed   1241\n",
       "4  2021-10-09          Subscribed    789"
      ]
     },
     "execution_count": 142,
     "metadata": {},
     "output_type": "execute_result"
    }
   ],
   "source": [
    "## Subscription\n",
    "df_yt_subscription.head()"
   ]
  },
  {
   "cell_type": "code",
   "execution_count": 143,
   "metadata": {},
   "outputs": [
    {
     "data": {
      "image/png": "[encoded data removed]",
      "text/plain": [
       "<Figure size 432x288 with 1 Axes>"
      ]
     },
     "metadata": {},
     "output_type": "display_data"
    }
   ],
   "source": [
    "## Subscription Graph\n",
    "\n",
    "\n",
    "df_plot = df_yt_subscription\n",
    "\n",
    "ax = sns.lineplot(x=\"Date\", y=\"Views\", hue=\"Subscription status\", data=df_plot)\n",
    "plt.xticks(rotation=90)\n",
    "plt.title(\"시청횟수 및 구독자/비구독자\")\n",
    "plt.tight_layout()\n",
    "\n",
    "plt.savefig(\"../weekly_plots/yt_subscription.png\")"
   ]
  },
  {
   "cell_type": "code",
   "execution_count": 144,
   "metadata": {},
   "outputs": [
    {
     "data": {
      "text/html": [
       "<div>\n",
       "<style scoped>\n",
       "    .dataframe tbody tr th:only-of-type {\n",
       "        vertical-align: middle;\n",
       "    }\n",
       "\n",
       "    .dataframe tbody tr th {\n",
       "        vertical-align: top;\n",
       "    }\n",
       "\n",
       "    .dataframe thead th {\n",
       "        text-align: right;\n",
       "    }\n",
       "</style>\n",
       "<table border=\"1\" class=\"dataframe\">\n",
       "  <thead>\n",
       "    <tr style=\"text-align: right;\">\n",
       "      <th></th>\n",
       "      <th>Viewer age</th>\n",
       "      <th>Viewer gender</th>\n",
       "      <th>Views (%)</th>\n",
       "      <th>Watch time (hours) (%)</th>\n",
       "    </tr>\n",
       "  </thead>\n",
       "  <tbody>\n",
       "    <tr>\n",
       "      <th>0</th>\n",
       "      <td>13–17 years</td>\n",
       "      <td>Male</td>\n",
       "      <td>0.37</td>\n",
       "      <td>0.75</td>\n",
       "    </tr>\n",
       "    <tr>\n",
       "      <th>1</th>\n",
       "      <td>18–24 years</td>\n",
       "      <td>Female</td>\n",
       "      <td>0.33</td>\n",
       "      <td>0.08</td>\n",
       "    </tr>\n",
       "    <tr>\n",
       "      <th>2</th>\n",
       "      <td>18–24 years</td>\n",
       "      <td>Male</td>\n",
       "      <td>10.49</td>\n",
       "      <td>8.45</td>\n",
       "    </tr>\n",
       "    <tr>\n",
       "      <th>3</th>\n",
       "      <td>25–34 years</td>\n",
       "      <td>Female</td>\n",
       "      <td>0.97</td>\n",
       "      <td>0.69</td>\n",
       "    </tr>\n",
       "    <tr>\n",
       "      <th>4</th>\n",
       "      <td>25–34 years</td>\n",
       "      <td>Male</td>\n",
       "      <td>14.87</td>\n",
       "      <td>15.97</td>\n",
       "    </tr>\n",
       "  </tbody>\n",
       "</table>\n",
       "</div>"
      ],
      "text/plain": [
       "    Viewer age Viewer gender  Views (%)  Watch time (hours) (%)\n",
       "0  13–17 years          Male       0.37                    0.75\n",
       "1  18–24 years        Female       0.33                    0.08\n",
       "2  18–24 years          Male      10.49                    8.45\n",
       "3  25–34 years        Female       0.97                    0.69\n",
       "4  25–34 years          Male      14.87                   15.97"
      ]
     },
     "execution_count": 144,
     "metadata": {},
     "output_type": "execute_result"
    }
   ],
   "source": [
    "## Gender age plot\n",
    "df_yt_gender_age.head()"
   ]
  },
  {
   "cell_type": "code",
   "execution_count": 145,
   "metadata": {},
   "outputs": [
    {
     "data": {
      "image/png": "[encoded data removed]",
      "text/plain": [
       "<Figure size 432x288 with 1 Axes>"
      ]
     },
     "metadata": {},
     "output_type": "display_data"
    }
   ],
   "source": [
    "df_plot = df_yt_gender_age\n",
    "ax = sns.barplot(x=\"Viewer age\", y=\"Views (%)\", hue=\"Viewer gender\", data=df_plot)\n",
    "plt.xticks(rotation=90)\n",
    "plt.title(\"시청자 성별 및 연령 분포\")\n",
    "plt.tight_layout()\n",
    "\n",
    "plt.savefig(\"../weekly_plots/yt_gender_age.png\")"
   ]
  },
  {
   "cell_type": "markdown",
   "metadata": {},
   "source": [
    "# Facebook"
   ]
  },
  {
   "cell_type": "code",
   "execution_count": 146,
   "metadata": {},
   "outputs": [],
   "source": [
    "# Preprocession\n",
    "temp_age = df_fb_targets.iloc[4:11]\n",
    "columns = temp_age.iloc[1]\n",
    "df_fb_age = df_fb_targets.iloc[6:11]\n",
    "df_fb_age.columns = columns"
   ]
  },
  {
   "cell_type": "code",
   "execution_count": 147,
   "metadata": {},
   "outputs": [
    {
     "data": {
      "text/html": [
       "<div>\n",
       "<style scoped>\n",
       "    .dataframe tbody tr th:only-of-type {\n",
       "        vertical-align: middle;\n",
       "    }\n",
       "\n",
       "    .dataframe tbody tr th {\n",
       "        vertical-align: top;\n",
       "    }\n",
       "\n",
       "    .dataframe thead th {\n",
       "        text-align: right;\n",
       "    }\n",
       "</style>\n",
       "<table border=\"1\" class=\"dataframe\">\n",
       "  <thead>\n",
       "    <tr style=\"text-align: right;\">\n",
       "      <th>5</th>\n",
       "      <th>연령</th>\n",
       "      <th>여성</th>\n",
       "      <th>남성</th>\n",
       "    </tr>\n",
       "  </thead>\n",
       "  <tbody>\n",
       "    <tr>\n",
       "      <th>6</th>\n",
       "      <td>18-24</td>\n",
       "      <td>1%</td>\n",
       "      <td>4.9%</td>\n",
       "    </tr>\n",
       "    <tr>\n",
       "      <th>7</th>\n",
       "      <td>25-34</td>\n",
       "      <td>3.9%</td>\n",
       "      <td>13.8%</td>\n",
       "    </tr>\n",
       "    <tr>\n",
       "      <th>8</th>\n",
       "      <td>35-44</td>\n",
       "      <td>5.9%</td>\n",
       "      <td>17.1%</td>\n",
       "    </tr>\n",
       "    <tr>\n",
       "      <th>9</th>\n",
       "      <td>45-54</td>\n",
       "      <td>6.4%</td>\n",
       "      <td>21.3%</td>\n",
       "    </tr>\n",
       "    <tr>\n",
       "      <th>10</th>\n",
       "      <td>55-64</td>\n",
       "      <td>3.1%</td>\n",
       "      <td>17.6%</td>\n",
       "    </tr>\n",
       "  </tbody>\n",
       "</table>\n",
       "</div>"
      ],
      "text/plain": [
       "5      연령    여성     남성\n",
       "6   18-24    1%   4.9%\n",
       "7   25-34  3.9%  13.8%\n",
       "8   35-44  5.9%  17.1%\n",
       "9   45-54  6.4%  21.3%\n",
       "10  55-64  3.1%  17.6%"
      ]
     },
     "execution_count": 147,
     "metadata": {},
     "output_type": "execute_result"
    }
   ],
   "source": [
    "df_fb_age"
   ]
  },
  {
   "cell_type": "code",
   "execution_count": 148,
   "metadata": {},
   "outputs": [],
   "source": [
    "dict_list = []\n",
    "\n",
    "for i in df_fb_age.iterrows():\n",
    "    age = i[1]['연령']\n",
    "    male_ratio = i[1]['남성']\n",
    "    female_ratio = i[1]['여성']\n",
    "    \n",
    "    dict_list.append({\"age\" : age, \"view\": float(male_ratio.split(\"%\")[0]), \"gender\": \"male\"})\n",
    "    dict_list.append({\"age\" : age, \"view\": float(female_ratio.split(\"%\")[0]), \"gender\": \"female\" })"
   ]
  },
  {
   "cell_type": "code",
   "execution_count": 149,
   "metadata": {},
   "outputs": [],
   "source": [
    "df_plot = pd.DataFrame(dict_list)"
   ]
  },
  {
   "cell_type": "code",
   "execution_count": 150,
   "metadata": {},
   "outputs": [
    {
     "data": {
      "text/html": [
       "<div>\n",
       "<style scoped>\n",
       "    .dataframe tbody tr th:only-of-type {\n",
       "        vertical-align: middle;\n",
       "    }\n",
       "\n",
       "    .dataframe tbody tr th {\n",
       "        vertical-align: top;\n",
       "    }\n",
       "\n",
       "    .dataframe thead th {\n",
       "        text-align: right;\n",
       "    }\n",
       "</style>\n",
       "<table border=\"1\" class=\"dataframe\">\n",
       "  <thead>\n",
       "    <tr style=\"text-align: right;\">\n",
       "      <th></th>\n",
       "      <th>age</th>\n",
       "      <th>view</th>\n",
       "      <th>gender</th>\n",
       "    </tr>\n",
       "  </thead>\n",
       "  <tbody>\n",
       "    <tr>\n",
       "      <th>0</th>\n",
       "      <td>18-24</td>\n",
       "      <td>4.9</td>\n",
       "      <td>male</td>\n",
       "    </tr>\n",
       "    <tr>\n",
       "      <th>1</th>\n",
       "      <td>18-24</td>\n",
       "      <td>1.0</td>\n",
       "      <td>female</td>\n",
       "    </tr>\n",
       "    <tr>\n",
       "      <th>2</th>\n",
       "      <td>25-34</td>\n",
       "      <td>13.8</td>\n",
       "      <td>male</td>\n",
       "    </tr>\n",
       "    <tr>\n",
       "      <th>3</th>\n",
       "      <td>25-34</td>\n",
       "      <td>3.9</td>\n",
       "      <td>female</td>\n",
       "    </tr>\n",
       "    <tr>\n",
       "      <th>4</th>\n",
       "      <td>35-44</td>\n",
       "      <td>17.1</td>\n",
       "      <td>male</td>\n",
       "    </tr>\n",
       "    <tr>\n",
       "      <th>5</th>\n",
       "      <td>35-44</td>\n",
       "      <td>5.9</td>\n",
       "      <td>female</td>\n",
       "    </tr>\n",
       "    <tr>\n",
       "      <th>6</th>\n",
       "      <td>45-54</td>\n",
       "      <td>21.3</td>\n",
       "      <td>male</td>\n",
       "    </tr>\n",
       "    <tr>\n",
       "      <th>7</th>\n",
       "      <td>45-54</td>\n",
       "      <td>6.4</td>\n",
       "      <td>female</td>\n",
       "    </tr>\n",
       "    <tr>\n",
       "      <th>8</th>\n",
       "      <td>55-64</td>\n",
       "      <td>17.6</td>\n",
       "      <td>male</td>\n",
       "    </tr>\n",
       "    <tr>\n",
       "      <th>9</th>\n",
       "      <td>55-64</td>\n",
       "      <td>3.1</td>\n",
       "      <td>female</td>\n",
       "    </tr>\n",
       "  </tbody>\n",
       "</table>\n",
       "</div>"
      ],
      "text/plain": [
       "     age  view  gender\n",
       "0  18-24   4.9    male\n",
       "1  18-24   1.0  female\n",
       "2  25-34  13.8    male\n",
       "3  25-34   3.9  female\n",
       "4  35-44  17.1    male\n",
       "5  35-44   5.9  female\n",
       "6  45-54  21.3    male\n",
       "7  45-54   6.4  female\n",
       "8  55-64  17.6    male\n",
       "9  55-64   3.1  female"
      ]
     },
     "execution_count": 150,
     "metadata": {},
     "output_type": "execute_result"
    }
   ],
   "source": [
    "df_plot"
   ]
  },
  {
   "cell_type": "code",
   "execution_count": 151,
   "metadata": {},
   "outputs": [
    {
     "data": {
      "image/png": "[encoded data removed]",
      "text/plain": [
       "<Figure size 432x288 with 1 Axes>"
      ]
     },
     "metadata": {},
     "output_type": "display_data"
    }
   ],
   "source": [
    "ax = sns.barplot(x=\"age\", y=\"view\", hue=\"gender\", data=df_plot)\n",
    "plt.xticks(rotation=90)\n",
    "plt.title(\"시청자 성별 및 연령 분포\")\n",
    "plt.tight_layout()\n",
    "\n",
    "plt.savefig(\"../weekly_plots/fb_gender_age.png\")"
   ]
  },
  {
   "cell_type": "code",
   "execution_count": 152,
   "metadata": {},
   "outputs": [],
   "source": [
    "people = [20,30,40, 50,60,70]\n",
    "sns_type = [\"facebook\", \"instagram\", \"youtube\", \"facebook\", \"instagram\", \"youtube\"]\n",
    "date = [\"previous\"] * 3  + [\"Now\"] * 3\n",
    "\n",
    "df = pd.DataFrame({\"people\" : people, \"sns_type\" : sns_type, \"date\" : date})"
   ]
  },
  {
   "cell_type": "code",
   "execution_count": 153,
   "metadata": {},
   "outputs": [],
   "source": [
    "# Line graph\n",
    "\n",
    "columns = df_fb_results.iloc[1]\n",
    "df_plot = df_fb_results.iloc[-7:]\n",
    "df_plot.columns = columns\n",
    "\n",
    "\n",
    "\n",
    "temp_list = []\n",
    "for record in df_plot.iterrows():\n",
    "    date = record[1]['날짜'][:10]\n",
    "    view = int(record[1]['Facebook 페이지 도달'])\n",
    "    \n",
    "    temp_list.append({\"date\": date, \"view\": view})"
   ]
  },
  {
   "cell_type": "code",
   "execution_count": 155,
   "metadata": {},
   "outputs": [],
   "source": [
    "df_plot = pd.DataFrame(temp_list)"
   ]
  },
  {
   "cell_type": "code",
   "execution_count": 156,
   "metadata": {},
   "outputs": [
    {
     "data": {
      "text/html": [
       "<div>\n",
       "<style scoped>\n",
       "    .dataframe tbody tr th:only-of-type {\n",
       "        vertical-align: middle;\n",
       "    }\n",
       "\n",
       "    .dataframe tbody tr th {\n",
       "        vertical-align: top;\n",
       "    }\n",
       "\n",
       "    .dataframe thead th {\n",
       "        text-align: right;\n",
       "    }\n",
       "</style>\n",
       "<table border=\"1\" class=\"dataframe\">\n",
       "  <thead>\n",
       "    <tr style=\"text-align: right;\">\n",
       "      <th></th>\n",
       "      <th>date</th>\n",
       "      <th>view</th>\n",
       "    </tr>\n",
       "  </thead>\n",
       "  <tbody>\n",
       "    <tr>\n",
       "      <th>0</th>\n",
       "      <td>2021-10-06</td>\n",
       "      <td>1333</td>\n",
       "    </tr>\n",
       "    <tr>\n",
       "      <th>1</th>\n",
       "      <td>2021-10-07</td>\n",
       "      <td>6658</td>\n",
       "    </tr>\n",
       "    <tr>\n",
       "      <th>2</th>\n",
       "      <td>2021-10-08</td>\n",
       "      <td>3982</td>\n",
       "    </tr>\n",
       "    <tr>\n",
       "      <th>3</th>\n",
       "      <td>2021-10-09</td>\n",
       "      <td>1134</td>\n",
       "    </tr>\n",
       "    <tr>\n",
       "      <th>4</th>\n",
       "      <td>2021-10-10</td>\n",
       "      <td>1324</td>\n",
       "    </tr>\n",
       "  </tbody>\n",
       "</table>\n",
       "</div>"
      ],
      "text/plain": [
       "         date  view\n",
       "0  2021-10-06  1333\n",
       "1  2021-10-07  6658\n",
       "2  2021-10-08  3982\n",
       "3  2021-10-09  1134\n",
       "4  2021-10-10  1324"
      ]
     },
     "execution_count": 156,
     "metadata": {},
     "output_type": "execute_result"
    }
   ],
   "source": [
    "df_plot.head()"
   ]
  },
  {
   "cell_type": "code",
   "execution_count": 157,
   "metadata": {},
   "outputs": [
    {
     "data": {
      "image/png": "[encoded data removed]",
      "text/plain": [
       "<Figure size 432x288 with 1 Axes>"
      ]
     },
     "metadata": {},
     "output_type": "display_data"
    }
   ],
   "source": [
    "## View time series graph\n",
    "\n",
    "\n",
    "ax = sns.lineplot(x=\"date\", y=\"view\", data=df_plot)\n",
    "plt.xticks(rotation=90)\n",
    "plt.title(\"일자별 시청 횟수\")\n",
    "plt.tight_layout()\n",
    "\n",
    "plt.savefig(\"../weekly_plots/fb_views.png\")"
   ]
  },
  {
   "cell_type": "code",
   "execution_count": 158,
   "metadata": {},
   "outputs": [
    {
     "data": {
      "image/png": "[encoded data removed]",
      "text/plain": [
       "<Figure size 432x288 with 1 Axes>"
      ]
     },
     "metadata": {},
     "output_type": "display_data"
    }
   ],
   "source": [
    "ax = sns.barplot(x=\"sns_type\", y=\"people\", hue=\"date\", data= df)"
   ]
  },
  {
   "cell_type": "code",
   "execution_count": null,
   "metadata": {},
   "outputs": [],
   "source": []
  },
  {
   "cell_type": "code",
   "execution_count": null,
   "metadata": {},
   "outputs": [],
   "source": []
  }
 ],
 "metadata": {
  "kernelspec": {
   "display_name": "DLassn",
   "language": "python",
   "name": "dlassn"
  },
  "language_info": {
   "codemirror_mode": {
    "name": "ipython",
    "version": 3
   },
   "file_extension": ".py",
   "mimetype": "text/x-python",
   "name": "python",
   "nbconvert_exporter": "python",
   "pygments_lexer": "ipython3",
   "version": "3.6.10"
  }
 },
 "nbformat": 4,
 "nbformat_minor": 4
}
